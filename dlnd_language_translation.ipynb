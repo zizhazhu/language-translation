{
 "cells": [
  {
   "cell_type": "markdown",
   "metadata": {
    "collapsed": true
   },
   "source": [
    "# Language Translation\n",
    "In this project, you’re going to take a peek into the realm of neural network machine translation.  You’ll be training a sequence to sequence model on a dataset of English and French sentences that can translate new sentences from English to French.\n",
    "## Get the Data\n",
    "Since translating the whole language of English to French will take lots of time to train, we have provided you with a small portion of the English corpus."
   ]
  },
  {
   "cell_type": "code",
   "execution_count": 1,
   "metadata": {
    "collapsed": true
   },
   "outputs": [],
   "source": [
    "\"\"\"\n",
    "DON'T MODIFY ANYTHING IN THIS CELL\n",
    "\"\"\"\n",
    "import helper\n",
    "import problem_unittests as tests\n",
    "\n",
    "source_path = 'data/small_vocab_en'\n",
    "target_path = 'data/small_vocab_fr'\n",
    "source_text = helper.load_data(source_path)\n",
    "target_text = helper.load_data(target_path)"
   ]
  },
  {
   "cell_type": "markdown",
   "metadata": {},
   "source": [
    "## Explore the Data\n",
    "Play around with view_sentence_range to view different parts of the data."
   ]
  },
  {
   "cell_type": "code",
   "execution_count": 2,
   "metadata": {},
   "outputs": [
    {
     "name": "stdout",
     "output_type": "stream",
     "text": [
      "Dataset Stats\n",
      "Roughly the number of unique words: 227\n",
      "Number of sentences: 137861\n",
      "Average number of words in a sentence: 13.225277634719028\n",
      "\n",
      "English sentences 0 to 10:\n",
      "new jersey is sometimes quiet during autumn , and it is snowy in april .\n",
      "the united states is usually chilly during july , and it is usually freezing in november .\n",
      "california is usually quiet during march , and it is usually hot in june .\n",
      "the united states is sometimes mild during june , and it is cold in september .\n",
      "your least liked fruit is the grape , but my least liked is the apple .\n",
      "his favorite fruit is the orange , but my favorite is the grape .\n",
      "paris is relaxing during december , but it is usually chilly in july .\n",
      "new jersey is busy during spring , and it is never hot in march .\n",
      "our least liked fruit is the lemon , but my least liked is the grape .\n",
      "the united states is sometimes busy during january , and it is sometimes warm in november .\n",
      "\n",
      "French sentences 0 to 10:\n",
      "new jersey est parfois calme pendant l' automne , et il est neigeux en avril .\n",
      "les états-unis est généralement froid en juillet , et il gèle habituellement en novembre .\n",
      "california est généralement calme en mars , et il est généralement chaud en juin .\n",
      "les états-unis est parfois légère en juin , et il fait froid en septembre .\n",
      "votre moins aimé fruit est le raisin , mais mon moins aimé est la pomme .\n",
      "son fruit préféré est l'orange , mais mon préféré est le raisin .\n",
      "paris est relaxant en décembre , mais il est généralement froid en juillet .\n",
      "new jersey est occupé au printemps , et il est jamais chaude en mars .\n",
      "notre fruit est moins aimé le citron , mais mon moins aimé est le raisin .\n",
      "les états-unis est parfois occupé en janvier , et il est parfois chaud en novembre .\n"
     ]
    }
   ],
   "source": [
    "view_sentence_range = (0, 10)\n",
    "\n",
    "\"\"\"\n",
    "DON'T MODIFY ANYTHING IN THIS CELL\n",
    "\"\"\"\n",
    "import numpy as np\n",
    "\n",
    "print('Dataset Stats')\n",
    "print('Roughly the number of unique words: {}'.format(len({word: None for word in source_text.split()})))\n",
    "\n",
    "sentences = source_text.split('\\n')\n",
    "word_counts = [len(sentence.split()) for sentence in sentences]\n",
    "print('Number of sentences: {}'.format(len(sentences)))\n",
    "print('Average number of words in a sentence: {}'.format(np.average(word_counts)))\n",
    "\n",
    "print()\n",
    "print('English sentences {} to {}:'.format(*view_sentence_range))\n",
    "print('\\n'.join(source_text.split('\\n')[view_sentence_range[0]:view_sentence_range[1]]))\n",
    "print()\n",
    "print('French sentences {} to {}:'.format(*view_sentence_range))\n",
    "print('\\n'.join(target_text.split('\\n')[view_sentence_range[0]:view_sentence_range[1]]))"
   ]
  },
  {
   "cell_type": "markdown",
   "metadata": {},
   "source": [
    "## Implement Preprocessing Function\n",
    "### Text to Word Ids\n",
    "As you did with other RNNs, you must turn the text into a number so the computer can understand it. In the function `text_to_ids()`, you'll turn `source_text` and `target_text` from words to ids.  However, you need to add the `<EOS>` word id at the end of `target_text`.  This will help the neural network predict when the sentence should end.\n",
    "\n",
    "You can get the `<EOS>` word id by doing:\n",
    "```python\n",
    "target_vocab_to_int['<EOS>']\n",
    "```\n",
    "You can get other word ids using `source_vocab_to_int` and `target_vocab_to_int`."
   ]
  },
  {
   "cell_type": "code",
   "execution_count": 3,
   "metadata": {},
   "outputs": [
    {
     "name": "stdout",
     "output_type": "stream",
     "text": [
      "Tests Passed\n"
     ]
    }
   ],
   "source": [
    "def text_to_ids(source_text, target_text, source_vocab_to_int, target_vocab_to_int):\n",
    "    \"\"\"\n",
    "    Convert source and target text to proper word ids\n",
    "    :param source_text: String that contains all the source text.\n",
    "    :param target_text: String that contains all the target text.\n",
    "    :param source_vocab_to_int: Dictionary to go from the source words to an id\n",
    "    :param target_vocab_to_int: Dictionary to go from the target words to an id\n",
    "    :return: A tuple of lists (source_id_text, target_id_text)\n",
    "    \"\"\"\n",
    "    source_sentences = source_text.split('\\n')\n",
    "    target_sentences = target_text.split('\\n')\n",
    "    source_id_text = [[source_vocab_to_int[word] for word in sentence.split(' ') if word != ''] for sentence in source_sentences]\n",
    "    target_id_text = [[target_vocab_to_int[word] for word in sentence.split(' ') if word != ''] for sentence in target_sentences]\n",
    "    for sentence in target_id_text:\n",
    "        sentence.append(target_vocab_to_int['<EOS>'])\n",
    "    return source_id_text, target_id_text\n",
    "\n",
    "\"\"\"\n",
    "DON'T MODIFY ANYTHING IN THIS CELL THAT IS BELOW THIS LINE\n",
    "\"\"\"\n",
    "tests.test_text_to_ids(text_to_ids)"
   ]
  },
  {
   "cell_type": "markdown",
   "metadata": {},
   "source": [
    "### Preprocess all the data and save it\n",
    "Running the code cell below will preprocess all the data and save it to file."
   ]
  },
  {
   "cell_type": "code",
   "execution_count": 4,
   "metadata": {
    "collapsed": true
   },
   "outputs": [],
   "source": [
    "\"\"\"\n",
    "DON'T MODIFY ANYTHING IN THIS CELL\n",
    "\"\"\"\n",
    "helper.preprocess_and_save_data(source_path, target_path, text_to_ids)"
   ]
  },
  {
   "cell_type": "markdown",
   "metadata": {},
   "source": [
    "# Check Point\n",
    "This is your first checkpoint. If you ever decide to come back to this notebook or have to restart the notebook, you can start from here. The preprocessed data has been saved to disk."
   ]
  },
  {
   "cell_type": "code",
   "execution_count": 5,
   "metadata": {
    "collapsed": true
   },
   "outputs": [],
   "source": [
    "\"\"\"\n",
    "DON'T MODIFY ANYTHING IN THIS CELL\n",
    "\"\"\"\n",
    "import numpy as np\n",
    "import helper\n",
    "import problem_unittests as tests\n",
    "\n",
    "(source_int_text, target_int_text), (source_vocab_to_int, target_vocab_to_int), _ = helper.load_preprocess()"
   ]
  },
  {
   "cell_type": "markdown",
   "metadata": {},
   "source": [
    "### Check the Version of TensorFlow and Access to GPU\n",
    "This will check to make sure you have the correct version of TensorFlow and access to a GPU"
   ]
  },
  {
   "cell_type": "code",
   "execution_count": 6,
   "metadata": {},
   "outputs": [
    {
     "name": "stdout",
     "output_type": "stream",
     "text": [
      "TensorFlow Version: 1.2.0\n",
      "Default GPU Device: /gpu:0\n"
     ]
    }
   ],
   "source": [
    "\"\"\"\n",
    "DON'T MODIFY ANYTHING IN THIS CELL\n",
    "\"\"\"\n",
    "from distutils.version import LooseVersion\n",
    "import warnings\n",
    "import tensorflow as tf\n",
    "from tensorflow.python.layers.core import Dense\n",
    "\n",
    "# Check TensorFlow Version\n",
    "assert LooseVersion(tf.__version__) >= LooseVersion('1.1'), 'Please use TensorFlow version 1.1 or newer'\n",
    "print('TensorFlow Version: {}'.format(tf.__version__))\n",
    "\n",
    "# Check for a GPU\n",
    "if not tf.test.gpu_device_name():\n",
    "    warnings.warn('No GPU found. Please use a GPU to train your neural network.')\n",
    "else:\n",
    "    print('Default GPU Device: {}'.format(tf.test.gpu_device_name()))"
   ]
  },
  {
   "cell_type": "markdown",
   "metadata": {},
   "source": [
    "## Build the Neural Network\n",
    "You'll build the components necessary to build a Sequence-to-Sequence model by implementing the following functions below:\n",
    "- `model_inputs`\n",
    "- `process_decoder_input`\n",
    "- `encoding_layer`\n",
    "- `decoding_layer_train`\n",
    "- `decoding_layer_infer`\n",
    "- `decoding_layer`\n",
    "- `seq2seq_model`\n",
    "\n",
    "### Input\n",
    "Implement the `model_inputs()` function to create TF Placeholders for the Neural Network. It should create the following placeholders:\n",
    "\n",
    "- Input text placeholder named \"input\" using the TF Placeholder name parameter with rank 2.\n",
    "- Targets placeholder with rank 2.\n",
    "- Learning rate placeholder with rank 0.\n",
    "- Keep probability placeholder named \"keep_prob\" using the TF Placeholder name parameter with rank 0.\n",
    "- Target sequence length placeholder named \"target_sequence_length\" with rank 1\n",
    "- Max target sequence length tensor named \"max_target_len\" getting its value from applying tf.reduce_max on the target_sequence_length placeholder. Rank 0.\n",
    "- Source sequence length placeholder named \"source_sequence_length\" with rank 1\n",
    "\n",
    "Return the placeholders in the following the tuple (input, targets, learning rate, keep probability, target sequence length, max target sequence length, source sequence length)"
   ]
  },
  {
   "cell_type": "code",
   "execution_count": 7,
   "metadata": {},
   "outputs": [
    {
     "name": "stdout",
     "output_type": "stream",
     "text": [
      "ERROR:tensorflow:==================================\n",
      "Object was never used (type <class 'tensorflow.python.framework.ops.Operation'>):\n",
      "<tf.Operation 'assert_rank_2/Assert/Assert' type=Assert>\n",
      "If you want to mark it as used call its \"mark_used()\" method.\n",
      "It was originally created here:\n",
      "['File \"D:\\\\bin\\\\Miniconda3\\\\envs\\\\tensorflow1.2\\\\lib\\\\runpy.py\", line 193, in _run_module_as_main\\n    \"__main__\", mod_spec)', 'File \"D:\\\\bin\\\\Miniconda3\\\\envs\\\\tensorflow1.2\\\\lib\\\\runpy.py\", line 85, in _run_code\\n    exec(code, run_globals)', 'File \"D:\\\\bin\\\\Miniconda3\\\\envs\\\\tensorflow1.2\\\\lib\\\\site-packages\\\\ipykernel_launcher.py\", line 16, in <module>\\n    app.launch_new_instance()', 'File \"D:\\\\bin\\\\Miniconda3\\\\envs\\\\tensorflow1.2\\\\lib\\\\site-packages\\\\traitlets\\\\config\\\\application.py\", line 658, in launch_instance\\n    app.start()', 'File \"D:\\\\bin\\\\Miniconda3\\\\envs\\\\tensorflow1.2\\\\lib\\\\site-packages\\\\ipykernel\\\\kernelapp.py\", line 477, in start\\n    ioloop.IOLoop.instance().start()', 'File \"D:\\\\bin\\\\Miniconda3\\\\envs\\\\tensorflow1.2\\\\lib\\\\site-packages\\\\zmq\\\\eventloop\\\\ioloop.py\", line 177, in start\\n    super(ZMQIOLoop, self).start()', 'File \"D:\\\\bin\\\\Miniconda3\\\\envs\\\\tensorflow1.2\\\\lib\\\\site-packages\\\\tornado\\\\ioloop.py\", line 888, in start\\n    handler_func(fd_obj, events)', 'File \"D:\\\\bin\\\\Miniconda3\\\\envs\\\\tensorflow1.2\\\\lib\\\\site-packages\\\\tornado\\\\stack_context.py\", line 277, in null_wrapper\\n    return fn(*args, **kwargs)', 'File \"D:\\\\bin\\\\Miniconda3\\\\envs\\\\tensorflow1.2\\\\lib\\\\site-packages\\\\zmq\\\\eventloop\\\\zmqstream.py\", line 440, in _handle_events\\n    self._handle_recv()', 'File \"D:\\\\bin\\\\Miniconda3\\\\envs\\\\tensorflow1.2\\\\lib\\\\site-packages\\\\zmq\\\\eventloop\\\\zmqstream.py\", line 472, in _handle_recv\\n    self._run_callback(callback, msg)', 'File \"D:\\\\bin\\\\Miniconda3\\\\envs\\\\tensorflow1.2\\\\lib\\\\site-packages\\\\zmq\\\\eventloop\\\\zmqstream.py\", line 414, in _run_callback\\n    callback(*args, **kwargs)', 'File \"D:\\\\bin\\\\Miniconda3\\\\envs\\\\tensorflow1.2\\\\lib\\\\site-packages\\\\tornado\\\\stack_context.py\", line 277, in null_wrapper\\n    return fn(*args, **kwargs)', 'File \"D:\\\\bin\\\\Miniconda3\\\\envs\\\\tensorflow1.2\\\\lib\\\\site-packages\\\\ipykernel\\\\kernelbase.py\", line 283, in dispatcher\\n    return self.dispatch_shell(stream, msg)', 'File \"D:\\\\bin\\\\Miniconda3\\\\envs\\\\tensorflow1.2\\\\lib\\\\site-packages\\\\ipykernel\\\\kernelbase.py\", line 235, in dispatch_shell\\n    handler(stream, idents, msg)', 'File \"D:\\\\bin\\\\Miniconda3\\\\envs\\\\tensorflow1.2\\\\lib\\\\site-packages\\\\ipykernel\\\\kernelbase.py\", line 399, in execute_request\\n    user_expressions, allow_stdin)', 'File \"D:\\\\bin\\\\Miniconda3\\\\envs\\\\tensorflow1.2\\\\lib\\\\site-packages\\\\ipykernel\\\\ipkernel.py\", line 196, in do_execute\\n    res = shell.run_cell(code, store_history=store_history, silent=silent)', 'File \"D:\\\\bin\\\\Miniconda3\\\\envs\\\\tensorflow1.2\\\\lib\\\\site-packages\\\\ipykernel\\\\zmqshell.py\", line 533, in run_cell\\n    return super(ZMQInteractiveShell, self).run_cell(*args, **kwargs)', 'File \"D:\\\\bin\\\\Miniconda3\\\\envs\\\\tensorflow1.2\\\\lib\\\\site-packages\\\\IPython\\\\core\\\\interactiveshell.py\", line 2698, in run_cell\\n    interactivity=interactivity, compiler=compiler, result=result)', 'File \"D:\\\\bin\\\\Miniconda3\\\\envs\\\\tensorflow1.2\\\\lib\\\\site-packages\\\\IPython\\\\core\\\\interactiveshell.py\", line 2808, in run_ast_nodes\\n    if self.run_code(code, result):', 'File \"D:\\\\bin\\\\Miniconda3\\\\envs\\\\tensorflow1.2\\\\lib\\\\site-packages\\\\IPython\\\\core\\\\interactiveshell.py\", line 2862, in run_code\\n    exec(code_obj, self.user_global_ns, self.user_ns)', 'File \"<ipython-input-7-5f1efdfdb777>\", line 21, in <module>\\n    tests.test_model_inputs(model_inputs)', 'File \"E:\\\\program\\\\ml\\\\language-translation\\\\problem_unittests.py\", line 106, in test_model_inputs\\n    assert tf.assert_rank(lr, 0, message=\\'Learning Rate has wrong rank\\')', 'File \"D:\\\\bin\\\\Miniconda3\\\\envs\\\\tensorflow1.2\\\\lib\\\\site-packages\\\\tensorflow\\\\python\\\\ops\\\\check_ops.py\", line 617, in assert_rank\\n    dynamic_condition, data, summarize)', 'File \"D:\\\\bin\\\\Miniconda3\\\\envs\\\\tensorflow1.2\\\\lib\\\\site-packages\\\\tensorflow\\\\python\\\\ops\\\\check_ops.py\", line 571, in _assert_rank_condition\\n    return control_flow_ops.Assert(condition, data, summarize=summarize)', 'File \"D:\\\\bin\\\\Miniconda3\\\\envs\\\\tensorflow1.2\\\\lib\\\\site-packages\\\\tensorflow\\\\python\\\\util\\\\tf_should_use.py\", line 170, in wrapped\\n    return _add_should_use_warning(fn(*args, **kwargs))', 'File \"D:\\\\bin\\\\Miniconda3\\\\envs\\\\tensorflow1.2\\\\lib\\\\site-packages\\\\tensorflow\\\\python\\\\util\\\\tf_should_use.py\", line 139, in _add_should_use_warning\\n    wrapped = TFShouldUseWarningWrapper(x)', 'File \"D:\\\\bin\\\\Miniconda3\\\\envs\\\\tensorflow1.2\\\\lib\\\\site-packages\\\\tensorflow\\\\python\\\\util\\\\tf_should_use.py\", line 96, in __init__\\n    stack = [s.strip() for s in traceback.format_stack()]']\n",
      "==================================\n",
      "ERROR:tensorflow:==================================\n",
      "Object was never used (type <class 'tensorflow.python.framework.ops.Operation'>):\n",
      "<tf.Operation 'assert_rank_3/Assert/Assert' type=Assert>\n",
      "If you want to mark it as used call its \"mark_used()\" method.\n",
      "It was originally created here:\n",
      "['File \"D:\\\\bin\\\\Miniconda3\\\\envs\\\\tensorflow1.2\\\\lib\\\\runpy.py\", line 193, in _run_module_as_main\\n    \"__main__\", mod_spec)', 'File \"D:\\\\bin\\\\Miniconda3\\\\envs\\\\tensorflow1.2\\\\lib\\\\runpy.py\", line 85, in _run_code\\n    exec(code, run_globals)', 'File \"D:\\\\bin\\\\Miniconda3\\\\envs\\\\tensorflow1.2\\\\lib\\\\site-packages\\\\ipykernel_launcher.py\", line 16, in <module>\\n    app.launch_new_instance()', 'File \"D:\\\\bin\\\\Miniconda3\\\\envs\\\\tensorflow1.2\\\\lib\\\\site-packages\\\\traitlets\\\\config\\\\application.py\", line 658, in launch_instance\\n    app.start()', 'File \"D:\\\\bin\\\\Miniconda3\\\\envs\\\\tensorflow1.2\\\\lib\\\\site-packages\\\\ipykernel\\\\kernelapp.py\", line 477, in start\\n    ioloop.IOLoop.instance().start()', 'File \"D:\\\\bin\\\\Miniconda3\\\\envs\\\\tensorflow1.2\\\\lib\\\\site-packages\\\\zmq\\\\eventloop\\\\ioloop.py\", line 177, in start\\n    super(ZMQIOLoop, self).start()', 'File \"D:\\\\bin\\\\Miniconda3\\\\envs\\\\tensorflow1.2\\\\lib\\\\site-packages\\\\tornado\\\\ioloop.py\", line 888, in start\\n    handler_func(fd_obj, events)', 'File \"D:\\\\bin\\\\Miniconda3\\\\envs\\\\tensorflow1.2\\\\lib\\\\site-packages\\\\tornado\\\\stack_context.py\", line 277, in null_wrapper\\n    return fn(*args, **kwargs)', 'File \"D:\\\\bin\\\\Miniconda3\\\\envs\\\\tensorflow1.2\\\\lib\\\\site-packages\\\\zmq\\\\eventloop\\\\zmqstream.py\", line 440, in _handle_events\\n    self._handle_recv()', 'File \"D:\\\\bin\\\\Miniconda3\\\\envs\\\\tensorflow1.2\\\\lib\\\\site-packages\\\\zmq\\\\eventloop\\\\zmqstream.py\", line 472, in _handle_recv\\n    self._run_callback(callback, msg)', 'File \"D:\\\\bin\\\\Miniconda3\\\\envs\\\\tensorflow1.2\\\\lib\\\\site-packages\\\\zmq\\\\eventloop\\\\zmqstream.py\", line 414, in _run_callback\\n    callback(*args, **kwargs)', 'File \"D:\\\\bin\\\\Miniconda3\\\\envs\\\\tensorflow1.2\\\\lib\\\\site-packages\\\\tornado\\\\stack_context.py\", line 277, in null_wrapper\\n    return fn(*args, **kwargs)', 'File \"D:\\\\bin\\\\Miniconda3\\\\envs\\\\tensorflow1.2\\\\lib\\\\site-packages\\\\ipykernel\\\\kernelbase.py\", line 283, in dispatcher\\n    return self.dispatch_shell(stream, msg)', 'File \"D:\\\\bin\\\\Miniconda3\\\\envs\\\\tensorflow1.2\\\\lib\\\\site-packages\\\\ipykernel\\\\kernelbase.py\", line 235, in dispatch_shell\\n    handler(stream, idents, msg)', 'File \"D:\\\\bin\\\\Miniconda3\\\\envs\\\\tensorflow1.2\\\\lib\\\\site-packages\\\\ipykernel\\\\kernelbase.py\", line 399, in execute_request\\n    user_expressions, allow_stdin)', 'File \"D:\\\\bin\\\\Miniconda3\\\\envs\\\\tensorflow1.2\\\\lib\\\\site-packages\\\\ipykernel\\\\ipkernel.py\", line 196, in do_execute\\n    res = shell.run_cell(code, store_history=store_history, silent=silent)', 'File \"D:\\\\bin\\\\Miniconda3\\\\envs\\\\tensorflow1.2\\\\lib\\\\site-packages\\\\ipykernel\\\\zmqshell.py\", line 533, in run_cell\\n    return super(ZMQInteractiveShell, self).run_cell(*args, **kwargs)', 'File \"D:\\\\bin\\\\Miniconda3\\\\envs\\\\tensorflow1.2\\\\lib\\\\site-packages\\\\IPython\\\\core\\\\interactiveshell.py\", line 2698, in run_cell\\n    interactivity=interactivity, compiler=compiler, result=result)', 'File \"D:\\\\bin\\\\Miniconda3\\\\envs\\\\tensorflow1.2\\\\lib\\\\site-packages\\\\IPython\\\\core\\\\interactiveshell.py\", line 2808, in run_ast_nodes\\n    if self.run_code(code, result):', 'File \"D:\\\\bin\\\\Miniconda3\\\\envs\\\\tensorflow1.2\\\\lib\\\\site-packages\\\\IPython\\\\core\\\\interactiveshell.py\", line 2862, in run_code\\n    exec(code_obj, self.user_global_ns, self.user_ns)', 'File \"<ipython-input-7-5f1efdfdb777>\", line 21, in <module>\\n    tests.test_model_inputs(model_inputs)', 'File \"E:\\\\program\\\\ml\\\\language-translation\\\\problem_unittests.py\", line 107, in test_model_inputs\\n    assert tf.assert_rank(keep_prob, 0, message=\\'Keep Probability has wrong rank\\')', 'File \"D:\\\\bin\\\\Miniconda3\\\\envs\\\\tensorflow1.2\\\\lib\\\\site-packages\\\\tensorflow\\\\python\\\\ops\\\\check_ops.py\", line 617, in assert_rank\\n    dynamic_condition, data, summarize)', 'File \"D:\\\\bin\\\\Miniconda3\\\\envs\\\\tensorflow1.2\\\\lib\\\\site-packages\\\\tensorflow\\\\python\\\\ops\\\\check_ops.py\", line 571, in _assert_rank_condition\\n    return control_flow_ops.Assert(condition, data, summarize=summarize)', 'File \"D:\\\\bin\\\\Miniconda3\\\\envs\\\\tensorflow1.2\\\\lib\\\\site-packages\\\\tensorflow\\\\python\\\\util\\\\tf_should_use.py\", line 170, in wrapped\\n    return _add_should_use_warning(fn(*args, **kwargs))', 'File \"D:\\\\bin\\\\Miniconda3\\\\envs\\\\tensorflow1.2\\\\lib\\\\site-packages\\\\tensorflow\\\\python\\\\util\\\\tf_should_use.py\", line 139, in _add_should_use_warning\\n    wrapped = TFShouldUseWarningWrapper(x)', 'File \"D:\\\\bin\\\\Miniconda3\\\\envs\\\\tensorflow1.2\\\\lib\\\\site-packages\\\\tensorflow\\\\python\\\\util\\\\tf_should_use.py\", line 96, in __init__\\n    stack = [s.strip() for s in traceback.format_stack()]']\n",
      "==================================\n"
     ]
    },
    {
     "name": "stdout",
     "output_type": "stream",
     "text": [
      "Tests Passed\n"
     ]
    }
   ],
   "source": [
    "def model_inputs():\n",
    "    \"\"\"\n",
    "    Create TF Placeholders for input, targets, learning rate, and lengths of source and target sequences.\n",
    "    :return: Tuple (input, targets, learning rate, keep probability, target sequence length,\n",
    "    max target sequence length, source sequence length)\n",
    "    \"\"\"\n",
    "    input_ = tf.placeholder(tf.int32, [None, None], name='input')\n",
    "    target = tf.placeholder(tf.int32, [None, None], name='target')\n",
    "    learning_rate = tf.placeholder(tf.float32, name='learning_rate')\n",
    "    keep_prob = tf.placeholder(tf.float32, name='keep_prob')\n",
    "    \n",
    "    target_sequence_length = tf.placeholder(tf.int32, [None], name='target_sequence_length')\n",
    "    max_target_len = tf.reduce_max(target_sequence_length, name='max_target_len')\n",
    "    source_sequence_length = tf.placeholder(tf.int32, [None], name='source_sequence_length')\n",
    "    return input_, target, learning_rate, keep_prob, target_sequence_length, max_target_len, source_sequence_length\n",
    "\n",
    "\n",
    "\"\"\"\n",
    "DON'T MODIFY ANYTHING IN THIS CELL THAT IS BELOW THIS LINE\n",
    "\"\"\"\n",
    "tests.test_model_inputs(model_inputs)"
   ]
  },
  {
   "cell_type": "markdown",
   "metadata": {},
   "source": [
    "### Process Decoder Input\n",
    "Implement `process_decoder_input` by removing the last word id from each batch in `target_data` and concat the GO ID to the begining of each batch."
   ]
  },
  {
   "cell_type": "code",
   "execution_count": 8,
   "metadata": {},
   "outputs": [
    {
     "name": "stdout",
     "output_type": "stream",
     "text": [
      "Tests Passed\n"
     ]
    }
   ],
   "source": [
    "def process_decoder_input(target_data, target_vocab_to_int, batch_size):\n",
    "    \"\"\"\n",
    "    Preprocess target data for encoding\n",
    "    :param target_data: Target Placehoder\n",
    "    :param target_vocab_to_int: Dictionary to go from the target words to an id\n",
    "    :param batch_size: Batch Size\n",
    "    :return: Preprocessed target data\n",
    "    \"\"\"\n",
    "    sentences = tf.strided_slice(target_data, [0, 0], [batch_size, -1], [1, 1])\n",
    "    preprocessed = tf.concat([tf.fill([batch_size, 1], target_vocab_to_int['<GO>']), sentences], 1)\n",
    "    return preprocessed\n",
    "\n",
    "\"\"\"\n",
    "DON'T MODIFY ANYTHING IN THIS CELL THAT IS BELOW THIS LINE\n",
    "\"\"\"\n",
    "tests.test_process_encoding_input(process_decoder_input)"
   ]
  },
  {
   "cell_type": "markdown",
   "metadata": {},
   "source": [
    "### Encoding\n",
    "Implement `encoding_layer()` to create a Encoder RNN layer:\n",
    " * Embed the encoder input using [`tf.contrib.layers.embed_sequence`](https://www.tensorflow.org/api_docs/python/tf/contrib/layers/embed_sequence)\n",
    " * Construct a [stacked](https://github.com/tensorflow/tensorflow/blob/6947f65a374ebf29e74bb71e36fd82760056d82c/tensorflow/docs_src/tutorials/recurrent.md#stacking-multiple-lstms) [`tf.contrib.rnn.LSTMCell`](https://www.tensorflow.org/api_docs/python/tf/contrib/rnn/LSTMCell) wrapped in a [`tf.contrib.rnn.DropoutWrapper`](https://www.tensorflow.org/api_docs/python/tf/contrib/rnn/DropoutWrapper)\n",
    " * Pass cell and embedded input to [`tf.nn.dynamic_rnn()`](https://www.tensorflow.org/api_docs/python/tf/nn/dynamic_rnn)"
   ]
  },
  {
   "cell_type": "code",
   "execution_count": 10,
   "metadata": {
    "scrolled": false
   },
   "outputs": [
    {
     "name": "stdout",
     "output_type": "stream",
     "text": [
      "Tests Passed\n"
     ]
    }
   ],
   "source": [
    "from imp import reload\n",
    "reload(tests)\n",
    "\n",
    "def encoding_layer(rnn_inputs, rnn_size, num_layers, keep_prob, \n",
    "                   source_sequence_length, source_vocab_size, \n",
    "                   encoding_embedding_size):\n",
    "    \"\"\"\n",
    "    Create encoding layer\n",
    "    :param rnn_inputs: Inputs for the RNN\n",
    "    :param rnn_size: RNN Size\n",
    "    :param num_layers: Number of layers\n",
    "    :param keep_prob: Dropout keep probability\n",
    "    :param source_sequence_length: a list of the lengths of each sequence in the batch\n",
    "    :param source_vocab_size: vocabulary size of source data\n",
    "    :param encoding_embedding_size: embedding size of source data\n",
    "    :return: tuple (RNN output, RNN state)\n",
    "    \"\"\"\n",
    "    enc_embed_input = tf.contrib.layers.embed_sequence(rnn_inputs, source_vocab_size, encoding_embedding_size)\n",
    "    \n",
    "    def make_cell(rnn_size, keep_prob):\n",
    "        lstm = tf.nn.rnn_cell.LSTMCell(rnn_size, initializer=tf.random_uniform_initializer(-0.1, 0.1, seed=2))\n",
    "        drop = tf.nn.rnn_cell.DropoutWrapper(lstm, output_keep_prob=keep_prob)\n",
    "        return drop\n",
    "    enc_cell = tf.nn.rnn_cell.MultiRNNCell([make_cell(rnn_size, keep_prob) for _ in range(num_layers)])\n",
    "    enc_output, enc_state = tf.nn.dynamic_rnn(enc_cell, enc_embed_input, sequence_length=source_sequence_length, dtype=tf.float32)\n",
    "    return enc_output, enc_state\n",
    "\n",
    "\"\"\"\n",
    "DON'T MODIFY ANYTHING IN THIS CELL THAT IS BELOW THIS LINE\n",
    "\"\"\"\n",
    "tests.test_encoding_layer(encoding_layer)"
   ]
  },
  {
   "cell_type": "markdown",
   "metadata": {},
   "source": [
    "### Decoding - Training\n",
    "Create a training decoding layer:\n",
    "* Create a [`tf.contrib.seq2seq.TrainingHelper`](https://www.tensorflow.org/api_docs/python/tf/contrib/seq2seq/TrainingHelper) \n",
    "* Create a [`tf.contrib.seq2seq.BasicDecoder`](https://www.tensorflow.org/api_docs/python/tf/contrib/seq2seq/BasicDecoder)\n",
    "* Obtain the decoder outputs from [`tf.contrib.seq2seq.dynamic_decode`](https://www.tensorflow.org/api_docs/python/tf/contrib/seq2seq/dynamic_decode)"
   ]
  },
  {
   "cell_type": "code",
   "execution_count": 18,
   "metadata": {},
   "outputs": [
    {
     "name": "stdout",
     "output_type": "stream",
     "text": [
      "Tests Passed\n"
     ]
    }
   ],
   "source": [
    "\n",
    "def decoding_layer_train(encoder_state, dec_cell, dec_embed_input, \n",
    "                         target_sequence_length, max_summary_length, \n",
    "                         output_layer, keep_prob):\n",
    "    \"\"\"\n",
    "    Create a decoding layer for training\n",
    "    :param encoder_state: Encoder State\n",
    "    :param dec_cell: Decoder RNN Cell\n",
    "    :param dec_embed_input: Decoder embedded input\n",
    "    :param target_sequence_length: The lengths of each sequence in the target batch\n",
    "    :param max_summary_length: The length of the longest sequence in the batch\n",
    "    :param output_layer: Function to apply the output layer\n",
    "    :param keep_prob: Dropout keep probability\n",
    "    :return: BasicDecoderOutput containing training logits and sample_id\n",
    "    \"\"\"\n",
    "    training_helper = tf.contrib.seq2seq.TrainingHelper(inputs=dec_embed_input, sequence_length=target_sequence_length, time_major=False)\n",
    "    training_decoder = tf.contrib.seq2seq.BasicDecoder(dec_cell, training_helper, encoder_state, output_layer)\n",
    "    training_decoder_output = tf.contrib.seq2seq.dynamic_decode(training_decoder, \n",
    "                                                                impute_finished=True, maximum_iterations=max_summary_length)[0]\n",
    "    return training_decoder_output\n",
    "\n",
    "\n",
    "\n",
    "\"\"\"\n",
    "DON'T MODIFY ANYTHING IN THIS CELL THAT IS BELOW THIS LINE\n",
    "\"\"\"\n",
    "tests.test_decoding_layer_train(decoding_layer_train)"
   ]
  },
  {
   "cell_type": "markdown",
   "metadata": {},
   "source": [
    "### Decoding - Inference\n",
    "Create inference decoder:\n",
    "* Create a [`tf.contrib.seq2seq.GreedyEmbeddingHelper`](https://www.tensorflow.org/api_docs/python/tf/contrib/seq2seq/GreedyEmbeddingHelper)\n",
    "* Create a [`tf.contrib.seq2seq.BasicDecoder`](https://www.tensorflow.org/api_docs/python/tf/contrib/seq2seq/BasicDecoder)\n",
    "* Obtain the decoder outputs from [`tf.contrib.seq2seq.dynamic_decode`](https://www.tensorflow.org/api_docs/python/tf/contrib/seq2seq/dynamic_decode)"
   ]
  },
  {
   "cell_type": "code",
   "execution_count": 19,
   "metadata": {
    "scrolled": true
   },
   "outputs": [
    {
     "name": "stdout",
     "output_type": "stream",
     "text": [
      "Tests Passed\n"
     ]
    }
   ],
   "source": [
    "def decoding_layer_infer(encoder_state, dec_cell, dec_embeddings, start_of_sequence_id,\n",
    "                         end_of_sequence_id, max_target_sequence_length,\n",
    "                         vocab_size, output_layer, batch_size, keep_prob):\n",
    "    \"\"\"\n",
    "    Create a decoding layer for inference\n",
    "    :param encoder_state: Encoder state\n",
    "    :param dec_cell: Decoder RNN Cell\n",
    "    :param dec_embeddings: Decoder embeddings\n",
    "    :param start_of_sequence_id: GO ID\n",
    "    :param end_of_sequence_id: EOS Id\n",
    "    :param max_target_sequence_length: Maximum length of target sequences\n",
    "    :param vocab_size: Size of decoder/target vocabulary\n",
    "    :param decoding_scope: TenorFlow Variable Scope for decoding\n",
    "    :param output_layer: Function to apply the output layer\n",
    "    :param batch_size: Batch size\n",
    "    :param keep_prob: Dropout keep probability\n",
    "    :return: BasicDecoderOutput containing inference logits and sample_id\n",
    "    \"\"\"\n",
    "    start_tokens = tf.tile(tf.constant([start_of_sequence_id], dtype=tf.int32), [batch_size], name='start_tokens')\n",
    "    inference_helper = tf.contrib.seq2seq.GreedyEmbeddingHelper(dec_embeddings, start_tokens, end_of_sequence_id)\n",
    "    inference_decoder = tf.contrib.seq2seq.BasicDecoder(dec_cell, inference_helper, encoder_state, output_layer)\n",
    "    inference_decoder_output = tf.contrib.seq2seq.dynamic_decode(inference_decoder,\n",
    "                                                                 impute_finished=True, maximum_iterations=max_target_sequence_length)[0]\n",
    "    return inference_decoder_output\n",
    "\n",
    "\n",
    "\n",
    "\"\"\"\n",
    "DON'T MODIFY ANYTHING IN THIS CELL THAT IS BELOW THIS LINE\n",
    "\"\"\"\n",
    "tests.test_decoding_layer_infer(decoding_layer_infer)"
   ]
  },
  {
   "cell_type": "markdown",
   "metadata": {},
   "source": [
    "### Build the Decoding Layer\n",
    "Implement `decoding_layer()` to create a Decoder RNN layer.\n",
    "\n",
    "* Embed the target sequences\n",
    "* Construct the decoder LSTM cell (just like you constructed the encoder cell above)\n",
    "* Create an output layer to map the outputs of the decoder to the elements of our vocabulary\n",
    "* Use the your `decoding_layer_train(encoder_state, dec_cell, dec_embed_input, target_sequence_length, max_target_sequence_length, output_layer, keep_prob)` function to get the training logits.\n",
    "* Use your `decoding_layer_infer(encoder_state, dec_cell, dec_embeddings, start_of_sequence_id, end_of_sequence_id, max_target_sequence_length, vocab_size, output_layer, batch_size, keep_prob)` function to get the inference logits.\n",
    "\n",
    "Note: You'll need to use [tf.variable_scope](https://www.tensorflow.org/api_docs/python/tf/variable_scope) to share variables between training and inference."
   ]
  },
  {
   "cell_type": "code",
   "execution_count": 24,
   "metadata": {},
   "outputs": [
    {
     "name": "stdout",
     "output_type": "stream",
     "text": [
      "Tests Passed\n"
     ]
    }
   ],
   "source": [
    "def decoding_layer(dec_input, encoder_state,\n",
    "                   target_sequence_length, max_target_sequence_length,\n",
    "                   rnn_size,\n",
    "                   num_layers, target_vocab_to_int, target_vocab_size,\n",
    "                   batch_size, keep_prob, decoding_embedding_size):\n",
    "    \"\"\"\n",
    "    Create decoding layer\n",
    "    :param dec_input: Decoder input\n",
    "    :param encoder_state: Encoder state\n",
    "    :param target_sequence_length: The lengths of each sequence in the target batch\n",
    "    :param max_target_sequence_length: Maximum length of target sequences\n",
    "    :param rnn_size: RNN Size\n",
    "    :param num_layers: Number of layers\n",
    "    :param target_vocab_to_int: Dictionary to go from the target words to an id\n",
    "    :param target_vocab_size: Size of target vocabulary\n",
    "    :param batch_size: The size of the batch\n",
    "    :param keep_prob: Dropout keep probability\n",
    "    :param decoding_embedding_size: Decoding embedding size\n",
    "    :return: Tuple of (Training BasicDecoderOutput, Inference BasicDecoderOutput)\n",
    "    \"\"\"\n",
    "    dec_embeddings = tf.Variable(tf.random_uniform([target_vocab_size, decoding_embedding_size]))\n",
    "    dec_embed_input = tf.nn.embedding_lookup(dec_embeddings, dec_input)\n",
    "    \n",
    "    def make_cell(rnn_size, keep_prob):\n",
    "        lstm = tf.nn.rnn_cell.LSTMCell(rnn_size, initializer=tf.random_uniform_initializer(-0.1, 0.1, seed=2))\n",
    "        drop = tf.nn.rnn_cell.DropoutWrapper(lstm, input_keep_prob=keep_prob)\n",
    "        return drop\n",
    "    dec_cell = tf.nn.rnn_cell.MultiRNNCell([make_cell(rnn_size, keep_prob) for _ in range(num_layers)])\n",
    "    output_layer = Dense(target_vocab_size,\n",
    "                         kernel_initializer=tf.truncated_normal_initializer(mean=0.0, stddev=0.1))\n",
    "    \n",
    "    with tf.variable_scope(\"decode\"):\n",
    "        training_decoder_output = decoding_layer_train(encoder_state, dec_cell, dec_embed_input,\n",
    "                                                       target_sequence_length, max_target_sequence_length, output_layer, keep_prob)\n",
    "    with tf.variable_scope(\"deocde\", reuse=True):\n",
    "        inference_decoder_output = decoding_layer_infer(encoder_state, dec_cell, dec_embeddings,\n",
    "                                                        target_vocab_to_int['<GO>'], target_vocab_to_int['<EOS>'],\n",
    "                                                        max_target_sequence_length, target_vocab_size, output_layer, batch_size, keep_prob)\n",
    "    return training_decoder_output, inference_decoder_output\n",
    "\n",
    "\n",
    "\n",
    "\"\"\"\n",
    "DON'T MODIFY ANYTHING IN THIS CELL THAT IS BELOW THIS LINE\n",
    "\"\"\"\n",
    "tests.test_decoding_layer(decoding_layer)"
   ]
  },
  {
   "cell_type": "markdown",
   "metadata": {},
   "source": [
    "### Build the Neural Network\n",
    "Apply the functions you implemented above to:\n",
    "\n",
    "- Encode the input using your `encoding_layer(rnn_inputs, rnn_size, num_layers, keep_prob,  source_sequence_length, source_vocab_size, encoding_embedding_size)`.\n",
    "- Process target data using your `process_decoder_input(target_data, target_vocab_to_int, batch_size)` function.\n",
    "- Decode the encoded input using your `decoding_layer(dec_input, enc_state, target_sequence_length, max_target_sentence_length, rnn_size, num_layers, target_vocab_to_int, target_vocab_size, batch_size, keep_prob, dec_embedding_size)` function."
   ]
  },
  {
   "cell_type": "code",
   "execution_count": 29,
   "metadata": {},
   "outputs": [
    {
     "name": "stdout",
     "output_type": "stream",
     "text": [
      "Tests Passed\n"
     ]
    }
   ],
   "source": [
    "def seq2seq_model(input_data, target_data, keep_prob, batch_size,\n",
    "                  source_sequence_length, target_sequence_length,\n",
    "                  max_target_sentence_length,\n",
    "                  source_vocab_size, target_vocab_size,\n",
    "                  enc_embedding_size, dec_embedding_size,\n",
    "                  rnn_size, num_layers, target_vocab_to_int):\n",
    "    \"\"\"\n",
    "    Build the Sequence-to-Sequence part of the neural network\n",
    "    :param input_data: Input placeholder\n",
    "    :param target_data: Target placeholder\n",
    "    :param keep_prob: Dropout keep probability placeholder\n",
    "    :param batch_size: Batch Size\n",
    "    :param source_sequence_length: Sequence Lengths of source sequences in the batch\n",
    "    :param target_sequence_length: Sequence Lengths of target sequences in the batch\n",
    "    :param source_vocab_size: Source vocabulary size\n",
    "    :param target_vocab_size: Target vocabulary size\n",
    "    :param enc_embedding_size: Decoder embedding size\n",
    "    :param dec_embedding_size: Encoder embedding size\n",
    "    :param rnn_size: RNN Size\n",
    "    :param num_layers: Number of layers\n",
    "    :param target_vocab_to_int: Dictionary to go from the target words to an id\n",
    "    :return: Tuple of (Training BasicDecoderOutput, Inference BasicDecoderOutput)\n",
    "    \"\"\"\n",
    "    _, encoder_state = encoding_layer(input_data, rnn_size, num_layers, keep_prob, source_sequence_length, source_vocab_size,\n",
    "                                      enc_embedding_size)\n",
    "    dec_input = process_decoder_input(target_data, target_vocab_to_int, batch_size)\n",
    "    training_decoder_output, inference_decoder_output = decoding_layer(dec_input, encoder_state,\n",
    "                                                                       target_sequence_length, max_target_sentence_length,\n",
    "                                                                       rnn_size, num_layers, target_vocab_to_int, target_vocab_size,\n",
    "                                                                       batch_size, keep_prob, dec_embedding_size)\n",
    "    return training_decoder_output, inference_decoder_output\n",
    "\n",
    "\n",
    "\"\"\"\n",
    "DON'T MODIFY ANYTHING IN THIS CELL THAT IS BELOW THIS LINE\n",
    "\"\"\"\n",
    "tests.test_seq2seq_model(seq2seq_model)"
   ]
  },
  {
   "cell_type": "markdown",
   "metadata": {},
   "source": [
    "## Neural Network Training\n",
    "### Hyperparameters\n",
    "Tune the following parameters:\n",
    "\n",
    "- Set `epochs` to the number of epochs.\n",
    "- Set `batch_size` to the batch size.\n",
    "- Set `rnn_size` to the size of the RNNs.\n",
    "- Set `num_layers` to the number of layers.\n",
    "- Set `encoding_embedding_size` to the size of the embedding for the encoder.\n",
    "- Set `decoding_embedding_size` to the size of the embedding for the decoder.\n",
    "- Set `learning_rate` to the learning rate.\n",
    "- Set `keep_probability` to the Dropout keep probability\n",
    "- Set `display_step` to state how many steps between each debug output statement"
   ]
  },
  {
   "cell_type": "code",
   "execution_count": 30,
   "metadata": {
    "collapsed": true
   },
   "outputs": [],
   "source": [
    "# Number of Epochs\n",
    "epochs = 2\n",
    "# Batch Size\n",
    "batch_size = 64\n",
    "# RNN Size\n",
    "rnn_size = 256\n",
    "# Number of Layers\n",
    "num_layers = 1\n",
    "# Embedding Size\n",
    "encoding_embedding_size = 200\n",
    "decoding_embedding_size = 200\n",
    "# Learning Rate\n",
    "learning_rate = 0.001\n",
    "# Dropout Keep Probability\n",
    "keep_probability = 0.5\n",
    "display_step = 20"
   ]
  },
  {
   "cell_type": "markdown",
   "metadata": {},
   "source": [
    "### Build the Graph\n",
    "Build the graph using the neural network you implemented."
   ]
  },
  {
   "cell_type": "code",
   "execution_count": 31,
   "metadata": {
    "collapsed": true
   },
   "outputs": [],
   "source": [
    "\"\"\"\n",
    "DON'T MODIFY ANYTHING IN THIS CELL\n",
    "\"\"\"\n",
    "save_path = 'checkpoints/dev'\n",
    "(source_int_text, target_int_text), (source_vocab_to_int, target_vocab_to_int), _ = helper.load_preprocess()\n",
    "max_target_sentence_length = max([len(sentence) for sentence in source_int_text])\n",
    "\n",
    "train_graph = tf.Graph()\n",
    "with train_graph.as_default():\n",
    "    input_data, targets, lr, keep_prob, target_sequence_length, max_target_sequence_length, source_sequence_length = model_inputs()\n",
    "\n",
    "    #sequence_length = tf.placeholder_with_default(max_target_sentence_length, None, name='sequence_length')\n",
    "    input_shape = tf.shape(input_data)\n",
    "\n",
    "    train_logits, inference_logits = seq2seq_model(tf.reverse(input_data, [-1]),\n",
    "                                                   targets,\n",
    "                                                   keep_prob,\n",
    "                                                   batch_size,\n",
    "                                                   source_sequence_length,\n",
    "                                                   target_sequence_length,\n",
    "                                                   max_target_sequence_length,\n",
    "                                                   len(source_vocab_to_int),\n",
    "                                                   len(target_vocab_to_int),\n",
    "                                                   encoding_embedding_size,\n",
    "                                                   decoding_embedding_size,\n",
    "                                                   rnn_size,\n",
    "                                                   num_layers,\n",
    "                                                   target_vocab_to_int)\n",
    "\n",
    "\n",
    "    training_logits = tf.identity(train_logits.rnn_output, name='logits')\n",
    "    inference_logits = tf.identity(inference_logits.sample_id, name='predictions')\n",
    "\n",
    "    masks = tf.sequence_mask(target_sequence_length, max_target_sequence_length, dtype=tf.float32, name='masks')\n",
    "\n",
    "    with tf.name_scope(\"optimization\"):\n",
    "        # Loss function\n",
    "        cost = tf.contrib.seq2seq.sequence_loss(\n",
    "            training_logits,\n",
    "            targets,\n",
    "            masks)\n",
    "\n",
    "        # Optimizer\n",
    "        optimizer = tf.train.AdamOptimizer(lr)\n",
    "\n",
    "        # Gradient Clipping\n",
    "        gradients = optimizer.compute_gradients(cost)\n",
    "        capped_gradients = [(tf.clip_by_value(grad, -1., 1.), var) for grad, var in gradients if grad is not None]\n",
    "        train_op = optimizer.apply_gradients(capped_gradients)\n"
   ]
  },
  {
   "cell_type": "markdown",
   "metadata": {},
   "source": [
    "Batch and pad the source and target sequences"
   ]
  },
  {
   "cell_type": "code",
   "execution_count": 32,
   "metadata": {
    "collapsed": true
   },
   "outputs": [],
   "source": [
    "\"\"\"\n",
    "DON'T MODIFY ANYTHING IN THIS CELL\n",
    "\"\"\"\n",
    "def pad_sentence_batch(sentence_batch, pad_int):\n",
    "    \"\"\"Pad sentences with <PAD> so that each sentence of a batch has the same length\"\"\"\n",
    "    max_sentence = max([len(sentence) for sentence in sentence_batch])\n",
    "    return [sentence + [pad_int] * (max_sentence - len(sentence)) for sentence in sentence_batch]\n",
    "\n",
    "\n",
    "def get_batches(sources, targets, batch_size, source_pad_int, target_pad_int):\n",
    "    \"\"\"Batch targets, sources, and the lengths of their sentences together\"\"\"\n",
    "    for batch_i in range(0, len(sources)//batch_size):\n",
    "        start_i = batch_i * batch_size\n",
    "\n",
    "        # Slice the right amount for the batch\n",
    "        sources_batch = sources[start_i:start_i + batch_size]\n",
    "        targets_batch = targets[start_i:start_i + batch_size]\n",
    "\n",
    "        # Pad\n",
    "        pad_sources_batch = np.array(pad_sentence_batch(sources_batch, source_pad_int))\n",
    "        pad_targets_batch = np.array(pad_sentence_batch(targets_batch, target_pad_int))\n",
    "\n",
    "        # Need the lengths for the _lengths parameters\n",
    "        pad_targets_lengths = []\n",
    "        for target in pad_targets_batch:\n",
    "            pad_targets_lengths.append(len(target))\n",
    "\n",
    "        pad_source_lengths = []\n",
    "        for source in pad_sources_batch:\n",
    "            pad_source_lengths.append(len(source))\n",
    "\n",
    "        yield pad_sources_batch, pad_targets_batch, pad_source_lengths, pad_targets_lengths\n"
   ]
  },
  {
   "cell_type": "markdown",
   "metadata": {},
   "source": [
    "### Train\n",
    "Train the neural network on the preprocessed data. If you have a hard time getting a good loss, check the forms to see if anyone is having the same problem."
   ]
  },
  {
   "cell_type": "code",
   "execution_count": 33,
   "metadata": {
    "scrolled": true
   },
   "outputs": [
    {
     "name": "stdout",
     "output_type": "stream",
     "text": [
      "Epoch   0 Batch   20/2154 - Train Accuracy: 0.3281, Validation Accuracy: 0.3558, Loss: 2.9441\n",
      "Epoch   0 Batch   40/2154 - Train Accuracy: 0.4030, Validation Accuracy: 0.4354, Loss: 2.4937\n",
      "Epoch   0 Batch   60/2154 - Train Accuracy: 0.4148, Validation Accuracy: 0.4553, Loss: 2.0399\n",
      "Epoch   0 Batch   80/2154 - Train Accuracy: 0.4055, Validation Accuracy: 0.4268, Loss: 1.7590\n",
      "Epoch   0 Batch  100/2154 - Train Accuracy: 0.3847, Validation Accuracy: 0.4247, Loss: 1.5689\n",
      "Epoch   0 Batch  120/2154 - Train Accuracy: 0.4276, Validation Accuracy: 0.4624, Loss: 1.3027\n",
      "Epoch   0 Batch  140/2154 - Train Accuracy: 0.5000, Validation Accuracy: 0.4957, Loss: 1.2758\n",
      "Epoch   0 Batch  160/2154 - Train Accuracy: 0.4750, Validation Accuracy: 0.4957, Loss: 1.1743\n",
      "Epoch   0 Batch  180/2154 - Train Accuracy: 0.5219, Validation Accuracy: 0.5341, Loss: 1.0114\n",
      "Epoch   0 Batch  200/2154 - Train Accuracy: 0.4938, Validation Accuracy: 0.5163, Loss: 0.9386\n",
      "Epoch   0 Batch  220/2154 - Train Accuracy: 0.5148, Validation Accuracy: 0.5170, Loss: 0.9000\n",
      "Epoch   0 Batch  240/2154 - Train Accuracy: 0.5211, Validation Accuracy: 0.5497, Loss: 0.8799\n",
      "Epoch   0 Batch  260/2154 - Train Accuracy: 0.5914, Validation Accuracy: 0.5497, Loss: 0.8319\n",
      "Epoch   0 Batch  280/2154 - Train Accuracy: 0.5444, Validation Accuracy: 0.5526, Loss: 0.8689\n",
      "Epoch   0 Batch  300/2154 - Train Accuracy: 0.5247, Validation Accuracy: 0.5668, Loss: 0.8674\n",
      "Epoch   0 Batch  320/2154 - Train Accuracy: 0.5781, Validation Accuracy: 0.5902, Loss: 0.7028\n",
      "Epoch   0 Batch  340/2154 - Train Accuracy: 0.5744, Validation Accuracy: 0.5938, Loss: 0.6884\n",
      "Epoch   0 Batch  360/2154 - Train Accuracy: 0.6242, Validation Accuracy: 0.5930, Loss: 0.7280\n",
      "Epoch   0 Batch  380/2154 - Train Accuracy: 0.6008, Validation Accuracy: 0.5859, Loss: 0.6794\n",
      "Epoch   0 Batch  400/2154 - Train Accuracy: 0.6312, Validation Accuracy: 0.5916, Loss: 0.6716\n",
      "Epoch   0 Batch  420/2154 - Train Accuracy: 0.6079, Validation Accuracy: 0.6072, Loss: 0.5814\n",
      "Epoch   0 Batch  440/2154 - Train Accuracy: 0.6612, Validation Accuracy: 0.6108, Loss: 0.6463\n",
      "Epoch   0 Batch  460/2154 - Train Accuracy: 0.6172, Validation Accuracy: 0.6236, Loss: 0.6005\n",
      "Epoch   0 Batch  480/2154 - Train Accuracy: 0.6124, Validation Accuracy: 0.6193, Loss: 0.5497\n",
      "Epoch   0 Batch  500/2154 - Train Accuracy: 0.6160, Validation Accuracy: 0.6186, Loss: 0.5863\n",
      "Epoch   0 Batch  520/2154 - Train Accuracy: 0.6109, Validation Accuracy: 0.6555, Loss: 0.5584\n",
      "Epoch   0 Batch  540/2154 - Train Accuracy: 0.6225, Validation Accuracy: 0.6449, Loss: 0.5866\n",
      "Epoch   0 Batch  560/2154 - Train Accuracy: 0.6664, Validation Accuracy: 0.6662, Loss: 0.5739\n",
      "Epoch   0 Batch  580/2154 - Train Accuracy: 0.6579, Validation Accuracy: 0.6491, Loss: 0.5496\n",
      "Epoch   0 Batch  600/2154 - Train Accuracy: 0.7229, Validation Accuracy: 0.6591, Loss: 0.4778\n",
      "Epoch   0 Batch  620/2154 - Train Accuracy: 0.7418, Validation Accuracy: 0.6740, Loss: 0.4592\n",
      "Epoch   0 Batch  640/2154 - Train Accuracy: 0.6852, Validation Accuracy: 0.7060, Loss: 0.4878\n",
      "Epoch   0 Batch  660/2154 - Train Accuracy: 0.6937, Validation Accuracy: 0.6925, Loss: 0.4822\n",
      "Epoch   0 Batch  680/2154 - Train Accuracy: 0.7360, Validation Accuracy: 0.6946, Loss: 0.4354\n",
      "Epoch   0 Batch  700/2154 - Train Accuracy: 0.7007, Validation Accuracy: 0.6818, Loss: 0.4365\n",
      "Epoch   0 Batch  720/2154 - Train Accuracy: 0.6900, Validation Accuracy: 0.7273, Loss: 0.4502\n",
      "Epoch   0 Batch  740/2154 - Train Accuracy: 0.7648, Validation Accuracy: 0.7308, Loss: 0.3929\n",
      "Epoch   0 Batch  760/2154 - Train Accuracy: 0.7930, Validation Accuracy: 0.7450, Loss: 0.3959\n",
      "Epoch   0 Batch  780/2154 - Train Accuracy: 0.8055, Validation Accuracy: 0.7436, Loss: 0.3349\n",
      "Epoch   0 Batch  800/2154 - Train Accuracy: 0.7673, Validation Accuracy: 0.7528, Loss: 0.3363\n",
      "Epoch   0 Batch  820/2154 - Train Accuracy: 0.7837, Validation Accuracy: 0.7564, Loss: 0.3688\n",
      "Epoch   0 Batch  840/2154 - Train Accuracy: 0.7539, Validation Accuracy: 0.7521, Loss: 0.3293\n",
      "Epoch   0 Batch  860/2154 - Train Accuracy: 0.7922, Validation Accuracy: 0.8153, Loss: 0.3245\n",
      "Epoch   0 Batch  880/2154 - Train Accuracy: 0.8430, Validation Accuracy: 0.7685, Loss: 0.3078\n",
      "Epoch   0 Batch  900/2154 - Train Accuracy: 0.8199, Validation Accuracy: 0.7869, Loss: 0.3078\n",
      "Epoch   0 Batch  920/2154 - Train Accuracy: 0.8445, Validation Accuracy: 0.8381, Loss: 0.2362\n",
      "Epoch   0 Batch  940/2154 - Train Accuracy: 0.8812, Validation Accuracy: 0.8679, Loss: 0.2499\n",
      "Epoch   0 Batch  960/2154 - Train Accuracy: 0.8359, Validation Accuracy: 0.8175, Loss: 0.2552\n",
      "Epoch   0 Batch  980/2154 - Train Accuracy: 0.8281, Validation Accuracy: 0.8232, Loss: 0.2257\n",
      "Epoch   0 Batch 1000/2154 - Train Accuracy: 0.8266, Validation Accuracy: 0.8537, Loss: 0.2090\n",
      "Epoch   0 Batch 1020/2154 - Train Accuracy: 0.8664, Validation Accuracy: 0.8757, Loss: 0.2328\n",
      "Epoch   0 Batch 1040/2154 - Train Accuracy: 0.8711, Validation Accuracy: 0.8423, Loss: 0.1847\n",
      "Epoch   0 Batch 1060/2154 - Train Accuracy: 0.8117, Validation Accuracy: 0.8530, Loss: 0.1958\n",
      "Epoch   0 Batch 1080/2154 - Train Accuracy: 0.8367, Validation Accuracy: 0.8487, Loss: 0.1964\n",
      "Epoch   0 Batch 1100/2154 - Train Accuracy: 0.8391, Validation Accuracy: 0.8885, Loss: 0.2052\n",
      "Epoch   0 Batch 1120/2154 - Train Accuracy: 0.8461, Validation Accuracy: 0.8814, Loss: 0.1695\n",
      "Epoch   0 Batch 1140/2154 - Train Accuracy: 0.8750, Validation Accuracy: 0.8423, Loss: 0.1621\n",
      "Epoch   0 Batch 1160/2154 - Train Accuracy: 0.8891, Validation Accuracy: 0.8651, Loss: 0.1640\n",
      "Epoch   0 Batch 1180/2154 - Train Accuracy: 0.9293, Validation Accuracy: 0.8544, Loss: 0.1443\n",
      "Epoch   0 Batch 1200/2154 - Train Accuracy: 0.8882, Validation Accuracy: 0.9020, Loss: 0.2026\n",
      "Epoch   0 Batch 1220/2154 - Train Accuracy: 0.9398, Validation Accuracy: 0.8686, Loss: 0.1286\n",
      "Epoch   0 Batch 1240/2154 - Train Accuracy: 0.8997, Validation Accuracy: 0.9020, Loss: 0.1231\n",
      "Epoch   0 Batch 1260/2154 - Train Accuracy: 0.8692, Validation Accuracy: 0.8643, Loss: 0.1600\n",
      "Epoch   0 Batch 1280/2154 - Train Accuracy: 0.9005, Validation Accuracy: 0.9077, Loss: 0.1499\n",
      "Epoch   0 Batch 1300/2154 - Train Accuracy: 0.8602, Validation Accuracy: 0.8828, Loss: 0.1450\n",
      "Epoch   0 Batch 1320/2154 - Train Accuracy: 0.9368, Validation Accuracy: 0.8864, Loss: 0.0837\n",
      "Epoch   0 Batch 1340/2154 - Train Accuracy: 0.8742, Validation Accuracy: 0.9268, Loss: 0.1156\n",
      "Epoch   0 Batch 1360/2154 - Train Accuracy: 0.9104, Validation Accuracy: 0.9290, Loss: 0.0972\n",
      "Epoch   0 Batch 1380/2154 - Train Accuracy: 0.9250, Validation Accuracy: 0.9389, Loss: 0.1020\n",
      "Epoch   0 Batch 1400/2154 - Train Accuracy: 0.9046, Validation Accuracy: 0.9247, Loss: 0.1005\n",
      "Epoch   0 Batch 1420/2154 - Train Accuracy: 0.8923, Validation Accuracy: 0.9041, Loss: 0.1205\n",
      "Epoch   0 Batch 1440/2154 - Train Accuracy: 0.9055, Validation Accuracy: 0.9311, Loss: 0.1262\n",
      "Epoch   0 Batch 1460/2154 - Train Accuracy: 0.8648, Validation Accuracy: 0.9304, Loss: 0.1301\n",
      "Epoch   0 Batch 1480/2154 - Train Accuracy: 0.9250, Validation Accuracy: 0.9595, Loss: 0.0954\n",
      "Epoch   0 Batch 1500/2154 - Train Accuracy: 0.9079, Validation Accuracy: 0.9183, Loss: 0.1034\n",
      "Epoch   0 Batch 1520/2154 - Train Accuracy: 0.9622, Validation Accuracy: 0.9503, Loss: 0.0650\n",
      "Epoch   0 Batch 1540/2154 - Train Accuracy: 0.9383, Validation Accuracy: 0.9403, Loss: 0.0934\n",
      "Epoch   0 Batch 1560/2154 - Train Accuracy: 0.8750, Validation Accuracy: 0.9411, Loss: 0.0965\n",
      "Epoch   0 Batch 1580/2154 - Train Accuracy: 0.9120, Validation Accuracy: 0.9645, Loss: 0.1007\n",
      "Epoch   0 Batch 1600/2154 - Train Accuracy: 0.8930, Validation Accuracy: 0.9261, Loss: 0.1043\n",
      "Epoch   0 Batch 1620/2154 - Train Accuracy: 0.9211, Validation Accuracy: 0.9134, Loss: 0.1064\n",
      "Epoch   0 Batch 1640/2154 - Train Accuracy: 0.9219, Validation Accuracy: 0.9318, Loss: 0.0598\n",
      "Epoch   0 Batch 1660/2154 - Train Accuracy: 0.9433, Validation Accuracy: 0.9432, Loss: 0.1067\n",
      "Epoch   0 Batch 1680/2154 - Train Accuracy: 0.9383, Validation Accuracy: 0.9616, Loss: 0.0580\n",
      "Epoch   0 Batch 1700/2154 - Train Accuracy: 0.9164, Validation Accuracy: 0.9034, Loss: 0.0755\n",
      "Epoch   0 Batch 1720/2154 - Train Accuracy: 0.9572, Validation Accuracy: 0.9240, Loss: 0.0855\n",
      "Epoch   0 Batch 1740/2154 - Train Accuracy: 0.9161, Validation Accuracy: 0.9091, Loss: 0.0829\n",
      "Epoch   0 Batch 1760/2154 - Train Accuracy: 0.9375, Validation Accuracy: 0.9041, Loss: 0.0776\n"
     ]
    },
    {
     "name": "stdout",
     "output_type": "stream",
     "text": [
      "Epoch   0 Batch 1780/2154 - Train Accuracy: 0.9305, Validation Accuracy: 0.9311, Loss: 0.0625\n",
      "Epoch   0 Batch 1800/2154 - Train Accuracy: 0.9461, Validation Accuracy: 0.9489, Loss: 0.0634\n",
      "Epoch   0 Batch 1820/2154 - Train Accuracy: 0.9313, Validation Accuracy: 0.9489, Loss: 0.0590\n",
      "Epoch   0 Batch 1840/2154 - Train Accuracy: 0.9410, Validation Accuracy: 0.9489, Loss: 0.0535\n",
      "Epoch   0 Batch 1860/2154 - Train Accuracy: 0.9227, Validation Accuracy: 0.9347, Loss: 0.0665\n",
      "Epoch   0 Batch 1880/2154 - Train Accuracy: 0.9406, Validation Accuracy: 0.9134, Loss: 0.0696\n",
      "Epoch   0 Batch 1900/2154 - Train Accuracy: 0.9609, Validation Accuracy: 0.9482, Loss: 0.0567\n",
      "Epoch   0 Batch 1920/2154 - Train Accuracy: 0.9688, Validation Accuracy: 0.9432, Loss: 0.0480\n",
      "Epoch   0 Batch 1940/2154 - Train Accuracy: 0.9003, Validation Accuracy: 0.9283, Loss: 0.0646\n",
      "Epoch   0 Batch 1960/2154 - Train Accuracy: 0.9276, Validation Accuracy: 0.9460, Loss: 0.0669\n",
      "Epoch   0 Batch 1980/2154 - Train Accuracy: 0.9062, Validation Accuracy: 0.9716, Loss: 0.0691\n",
      "Epoch   0 Batch 2000/2154 - Train Accuracy: 0.9445, Validation Accuracy: 0.9325, Loss: 0.0664\n",
      "Epoch   0 Batch 2020/2154 - Train Accuracy: 0.9581, Validation Accuracy: 0.9510, Loss: 0.0397\n",
      "Epoch   0 Batch 2040/2154 - Train Accuracy: 0.9383, Validation Accuracy: 0.9482, Loss: 0.0564\n",
      "Epoch   0 Batch 2060/2154 - Train Accuracy: 0.9564, Validation Accuracy: 0.9283, Loss: 0.0567\n",
      "Epoch   0 Batch 2080/2154 - Train Accuracy: 0.9442, Validation Accuracy: 0.9155, Loss: 0.0592\n",
      "Epoch   0 Batch 2100/2154 - Train Accuracy: 0.9719, Validation Accuracy: 0.9616, Loss: 0.0477\n",
      "Epoch   0 Batch 2120/2154 - Train Accuracy: 0.8964, Validation Accuracy: 0.9347, Loss: 0.0584\n",
      "Epoch   0 Batch 2140/2154 - Train Accuracy: 0.9546, Validation Accuracy: 0.9581, Loss: 0.0341\n",
      "Epoch   1 Batch   20/2154 - Train Accuracy: 0.9258, Validation Accuracy: 0.9517, Loss: 0.0488\n",
      "Epoch   1 Batch   40/2154 - Train Accuracy: 0.9465, Validation Accuracy: 0.9723, Loss: 0.0524\n",
      "Epoch   1 Batch   60/2154 - Train Accuracy: 0.9422, Validation Accuracy: 0.9716, Loss: 0.0415\n",
      "Epoch   1 Batch   80/2154 - Train Accuracy: 0.9469, Validation Accuracy: 0.9510, Loss: 0.0560\n",
      "Epoch   1 Batch  100/2154 - Train Accuracy: 0.8876, Validation Accuracy: 0.9652, Loss: 0.0746\n",
      "Epoch   1 Batch  120/2154 - Train Accuracy: 0.9474, Validation Accuracy: 0.9446, Loss: 0.0377\n",
      "Epoch   1 Batch  140/2154 - Train Accuracy: 0.9414, Validation Accuracy: 0.9148, Loss: 0.0642\n",
      "Epoch   1 Batch  160/2154 - Train Accuracy: 0.9367, Validation Accuracy: 0.9531, Loss: 0.0516\n",
      "Epoch   1 Batch  180/2154 - Train Accuracy: 0.9484, Validation Accuracy: 0.9432, Loss: 0.0410\n",
      "Epoch   1 Batch  200/2154 - Train Accuracy: 0.9563, Validation Accuracy: 0.9560, Loss: 0.0286\n",
      "Epoch   1 Batch  220/2154 - Train Accuracy: 0.9406, Validation Accuracy: 0.9673, Loss: 0.0453\n",
      "Epoch   1 Batch  240/2154 - Train Accuracy: 0.8805, Validation Accuracy: 0.9751, Loss: 0.0543\n",
      "Epoch   1 Batch  260/2154 - Train Accuracy: 0.9406, Validation Accuracy: 0.9020, Loss: 0.0591\n",
      "Epoch   1 Batch  280/2154 - Train Accuracy: 0.9490, Validation Accuracy: 0.9283, Loss: 0.0589\n",
      "Epoch   1 Batch  300/2154 - Train Accuracy: 0.9359, Validation Accuracy: 0.9780, Loss: 0.0468\n",
      "Epoch   1 Batch  320/2154 - Train Accuracy: 0.9406, Validation Accuracy: 0.9524, Loss: 0.0395\n",
      "Epoch   1 Batch  340/2154 - Train Accuracy: 0.9635, Validation Accuracy: 0.9503, Loss: 0.0353\n",
      "Epoch   1 Batch  360/2154 - Train Accuracy: 0.9646, Validation Accuracy: 0.9347, Loss: 0.0391\n",
      "Epoch   1 Batch  380/2154 - Train Accuracy: 0.9531, Validation Accuracy: 0.9744, Loss: 0.0387\n",
      "Epoch   1 Batch  400/2154 - Train Accuracy: 0.9352, Validation Accuracy: 0.9645, Loss: 0.0472\n",
      "Epoch   1 Batch  420/2154 - Train Accuracy: 0.9643, Validation Accuracy: 0.9411, Loss: 0.0322\n",
      "Epoch   1 Batch  440/2154 - Train Accuracy: 0.9655, Validation Accuracy: 0.9531, Loss: 0.0358\n",
      "Epoch   1 Batch  460/2154 - Train Accuracy: 0.9578, Validation Accuracy: 0.9496, Loss: 0.0332\n",
      "Epoch   1 Batch  480/2154 - Train Accuracy: 0.9576, Validation Accuracy: 0.9347, Loss: 0.0319\n",
      "Epoch   1 Batch  500/2154 - Train Accuracy: 0.9860, Validation Accuracy: 0.9439, Loss: 0.0392\n",
      "Epoch   1 Batch  520/2154 - Train Accuracy: 0.9727, Validation Accuracy: 0.9460, Loss: 0.0312\n",
      "Epoch   1 Batch  540/2154 - Train Accuracy: 0.9507, Validation Accuracy: 0.9709, Loss: 0.0380\n",
      "Epoch   1 Batch  560/2154 - Train Accuracy: 0.9570, Validation Accuracy: 0.9645, Loss: 0.0452\n",
      "Epoch   1 Batch  580/2154 - Train Accuracy: 0.9671, Validation Accuracy: 0.9638, Loss: 0.0365\n",
      "Epoch   1 Batch  600/2154 - Train Accuracy: 0.9646, Validation Accuracy: 0.9510, Loss: 0.0337\n",
      "Epoch   1 Batch  620/2154 - Train Accuracy: 0.9427, Validation Accuracy: 0.9176, Loss: 0.0344\n",
      "Epoch   1 Batch  640/2154 - Train Accuracy: 0.9586, Validation Accuracy: 0.9389, Loss: 0.0389\n",
      "Epoch   1 Batch  660/2154 - Train Accuracy: 0.9477, Validation Accuracy: 0.9581, Loss: 0.0407\n",
      "Epoch   1 Batch  680/2154 - Train Accuracy: 0.9852, Validation Accuracy: 0.9609, Loss: 0.0273\n",
      "Epoch   1 Batch  700/2154 - Train Accuracy: 0.9005, Validation Accuracy: 0.9311, Loss: 0.0352\n",
      "Epoch   1 Batch  720/2154 - Train Accuracy: 0.9531, Validation Accuracy: 0.9574, Loss: 0.0385\n",
      "Epoch   1 Batch  740/2154 - Train Accuracy: 0.9633, Validation Accuracy: 0.9418, Loss: 0.0436\n",
      "Epoch   1 Batch  760/2154 - Train Accuracy: 0.9656, Validation Accuracy: 0.9695, Loss: 0.0444\n",
      "Epoch   1 Batch  780/2154 - Train Accuracy: 0.9547, Validation Accuracy: 0.9645, Loss: 0.0298\n",
      "Epoch   1 Batch  800/2154 - Train Accuracy: 0.9753, Validation Accuracy: 0.9773, Loss: 0.0296\n",
      "Epoch   1 Batch  820/2154 - Train Accuracy: 0.9622, Validation Accuracy: 0.9602, Loss: 0.0495\n",
      "Epoch   1 Batch  840/2154 - Train Accuracy: 0.9414, Validation Accuracy: 0.9709, Loss: 0.0435\n",
      "Epoch   1 Batch  860/2154 - Train Accuracy: 0.9453, Validation Accuracy: 0.9553, Loss: 0.0344\n",
      "Epoch   1 Batch  880/2154 - Train Accuracy: 0.9594, Validation Accuracy: 0.9510, Loss: 0.0510\n",
      "Epoch   1 Batch  900/2154 - Train Accuracy: 0.9564, Validation Accuracy: 0.9581, Loss: 0.0339\n",
      "Epoch   1 Batch  920/2154 - Train Accuracy: 0.9650, Validation Accuracy: 0.9730, Loss: 0.0278\n",
      "Epoch   1 Batch  940/2154 - Train Accuracy: 0.9492, Validation Accuracy: 0.9751, Loss: 0.0362\n",
      "Epoch   1 Batch  960/2154 - Train Accuracy: 0.9445, Validation Accuracy: 0.9830, Loss: 0.0414\n",
      "Epoch   1 Batch  980/2154 - Train Accuracy: 0.9648, Validation Accuracy: 0.9134, Loss: 0.0293\n",
      "Epoch   1 Batch 1000/2154 - Train Accuracy: 0.9725, Validation Accuracy: 0.9680, Loss: 0.0271\n",
      "Epoch   1 Batch 1020/2154 - Train Accuracy: 0.9297, Validation Accuracy: 0.9837, Loss: 0.0466\n",
      "Epoch   1 Batch 1040/2154 - Train Accuracy: 0.9906, Validation Accuracy: 0.9780, Loss: 0.0189\n",
      "Epoch   1 Batch 1060/2154 - Train Accuracy: 0.9672, Validation Accuracy: 0.9787, Loss: 0.0329\n",
      "Epoch   1 Batch 1080/2154 - Train Accuracy: 0.9234, Validation Accuracy: 0.9872, Loss: 0.0491\n",
      "Epoch   1 Batch 1100/2154 - Train Accuracy: 0.9602, Validation Accuracy: 0.9645, Loss: 0.0397\n",
      "Epoch   1 Batch 1120/2154 - Train Accuracy: 0.9367, Validation Accuracy: 0.9581, Loss: 0.0283\n",
      "Epoch   1 Batch 1140/2154 - Train Accuracy: 0.9719, Validation Accuracy: 0.9822, Loss: 0.0254\n",
      "Epoch   1 Batch 1160/2154 - Train Accuracy: 0.9617, Validation Accuracy: 0.9737, Loss: 0.0244\n",
      "Epoch   1 Batch 1180/2154 - Train Accuracy: 0.9474, Validation Accuracy: 0.9872, Loss: 0.0309\n",
      "Epoch   1 Batch 1200/2154 - Train Accuracy: 0.9112, Validation Accuracy: 0.9801, Loss: 0.0660\n",
      "Epoch   1 Batch 1220/2154 - Train Accuracy: 0.9758, Validation Accuracy: 0.9844, Loss: 0.0232\n",
      "Epoch   1 Batch 1240/2154 - Train Accuracy: 0.9507, Validation Accuracy: 0.9801, Loss: 0.0279\n",
      "Epoch   1 Batch 1260/2154 - Train Accuracy: 0.9572, Validation Accuracy: 0.9489, Loss: 0.0372\n",
      "Epoch   1 Batch 1280/2154 - Train Accuracy: 0.9219, Validation Accuracy: 0.9830, Loss: 0.0439\n",
      "Epoch   1 Batch 1300/2154 - Train Accuracy: 0.9922, Validation Accuracy: 0.9574, Loss: 0.0272\n",
      "Epoch   1 Batch 1320/2154 - Train Accuracy: 0.9754, Validation Accuracy: 0.9652, Loss: 0.0190\n",
      "Epoch   1 Batch 1340/2154 - Train Accuracy: 0.9508, Validation Accuracy: 0.9624, Loss: 0.0301\n",
      "Epoch   1 Batch 1360/2154 - Train Accuracy: 0.9638, Validation Accuracy: 0.9858, Loss: 0.0222\n",
      "Epoch   1 Batch 1380/2154 - Train Accuracy: 0.9789, Validation Accuracy: 0.9830, Loss: 0.0229\n"
     ]
    },
    {
     "name": "stdout",
     "output_type": "stream",
     "text": [
      "Epoch   1 Batch 1400/2154 - Train Accuracy: 0.9794, Validation Accuracy: 0.9773, Loss: 0.0208\n",
      "Epoch   1 Batch 1420/2154 - Train Accuracy: 0.9613, Validation Accuracy: 0.9673, Loss: 0.0290\n",
      "Epoch   1 Batch 1440/2154 - Train Accuracy: 0.9437, Validation Accuracy: 0.9744, Loss: 0.0455\n",
      "Epoch   1 Batch 1460/2154 - Train Accuracy: 0.9727, Validation Accuracy: 0.9801, Loss: 0.0344\n",
      "Epoch   1 Batch 1480/2154 - Train Accuracy: 0.9750, Validation Accuracy: 0.9936, Loss: 0.0264\n",
      "Epoch   1 Batch 1500/2154 - Train Accuracy: 0.9663, Validation Accuracy: 0.9496, Loss: 0.0281\n",
      "Epoch   1 Batch 1520/2154 - Train Accuracy: 0.9655, Validation Accuracy: 0.9837, Loss: 0.0198\n",
      "Epoch   1 Batch 1540/2154 - Train Accuracy: 0.9750, Validation Accuracy: 0.9744, Loss: 0.0331\n",
      "Epoch   1 Batch 1560/2154 - Train Accuracy: 0.9313, Validation Accuracy: 0.9943, Loss: 0.0302\n",
      "Epoch   1 Batch 1580/2154 - Train Accuracy: 0.9646, Validation Accuracy: 0.9929, Loss: 0.0336\n",
      "Epoch   1 Batch 1600/2154 - Train Accuracy: 0.9828, Validation Accuracy: 0.9759, Loss: 0.0282\n",
      "Epoch   1 Batch 1620/2154 - Train Accuracy: 0.9827, Validation Accuracy: 0.9759, Loss: 0.0459\n",
      "Epoch   1 Batch 1640/2154 - Train Accuracy: 0.9984, Validation Accuracy: 0.9453, Loss: 0.0189\n",
      "Epoch   1 Batch 1660/2154 - Train Accuracy: 0.9597, Validation Accuracy: 0.9709, Loss: 0.0348\n",
      "Epoch   1 Batch 1680/2154 - Train Accuracy: 0.9836, Validation Accuracy: 0.9666, Loss: 0.0233\n",
      "Epoch   1 Batch 1700/2154 - Train Accuracy: 0.9664, Validation Accuracy: 0.9936, Loss: 0.0289\n",
      "Epoch   1 Batch 1720/2154 - Train Accuracy: 0.9877, Validation Accuracy: 0.9567, Loss: 0.0262\n",
      "Epoch   1 Batch 1740/2154 - Train Accuracy: 0.9465, Validation Accuracy: 0.9268, Loss: 0.0340\n",
      "Epoch   1 Batch 1760/2154 - Train Accuracy: 0.9910, Validation Accuracy: 0.9510, Loss: 0.0253\n",
      "Epoch   1 Batch 1780/2154 - Train Accuracy: 0.9500, Validation Accuracy: 0.9730, Loss: 0.0236\n",
      "Epoch   1 Batch 1800/2154 - Train Accuracy: 0.9664, Validation Accuracy: 0.9766, Loss: 0.0261\n",
      "Epoch   1 Batch 1820/2154 - Train Accuracy: 0.9688, Validation Accuracy: 0.9822, Loss: 0.0204\n",
      "Epoch   1 Batch 1840/2154 - Train Accuracy: 0.9783, Validation Accuracy: 0.9709, Loss: 0.0151\n",
      "Epoch   1 Batch 1860/2154 - Train Accuracy: 0.9770, Validation Accuracy: 0.9943, Loss: 0.0206\n",
      "Epoch   1 Batch 1880/2154 - Train Accuracy: 0.9469, Validation Accuracy: 0.9844, Loss: 0.0341\n",
      "Epoch   1 Batch 1900/2154 - Train Accuracy: 0.9617, Validation Accuracy: 0.9716, Loss: 0.0243\n",
      "Epoch   1 Batch 1920/2154 - Train Accuracy: 0.9827, Validation Accuracy: 0.9844, Loss: 0.0167\n",
      "Epoch   1 Batch 1940/2154 - Train Accuracy: 0.9509, Validation Accuracy: 0.9844, Loss: 0.0316\n",
      "Epoch   1 Batch 1960/2154 - Train Accuracy: 0.9844, Validation Accuracy: 0.9659, Loss: 0.0224\n",
      "Epoch   1 Batch 1980/2154 - Train Accuracy: 0.9219, Validation Accuracy: 0.9638, Loss: 0.0317\n",
      "Epoch   1 Batch 2000/2154 - Train Accuracy: 0.9461, Validation Accuracy: 0.9176, Loss: 0.0308\n",
      "Epoch   1 Batch 2020/2154 - Train Accuracy: 0.9696, Validation Accuracy: 0.9680, Loss: 0.0148\n",
      "Epoch   1 Batch 2040/2154 - Train Accuracy: 0.9400, Validation Accuracy: 0.9936, Loss: 0.0278\n",
      "Epoch   1 Batch 2060/2154 - Train Accuracy: 0.9613, Validation Accuracy: 0.9759, Loss: 0.0286\n",
      "Epoch   1 Batch 2080/2154 - Train Accuracy: 0.9576, Validation Accuracy: 0.9723, Loss: 0.0290\n",
      "Epoch   1 Batch 2100/2154 - Train Accuracy: 0.9781, Validation Accuracy: 0.9851, Loss: 0.0171\n",
      "Epoch   1 Batch 2120/2154 - Train Accuracy: 0.9243, Validation Accuracy: 0.9581, Loss: 0.0282\n",
      "Epoch   1 Batch 2140/2154 - Train Accuracy: 0.9695, Validation Accuracy: 0.9794, Loss: 0.0185\n",
      "Model Trained and Saved\n"
     ]
    }
   ],
   "source": [
    "\"\"\"\n",
    "DON'T MODIFY ANYTHING IN THIS CELL\n",
    "\"\"\"\n",
    "def get_accuracy(target, logits):\n",
    "    \"\"\"\n",
    "    Calculate accuracy\n",
    "    \"\"\"\n",
    "    max_seq = max(target.shape[1], logits.shape[1])\n",
    "    if max_seq - target.shape[1]:\n",
    "        target = np.pad(\n",
    "            target,\n",
    "            [(0,0),(0,max_seq - target.shape[1])],\n",
    "            'constant')\n",
    "    if max_seq - logits.shape[1]:\n",
    "        logits = np.pad(\n",
    "            logits,\n",
    "            [(0,0),(0,max_seq - logits.shape[1])],\n",
    "            'constant')\n",
    "\n",
    "    return np.mean(np.equal(target, logits))\n",
    "\n",
    "# Split data to training and validation sets\n",
    "train_source = source_int_text[batch_size:]\n",
    "train_target = target_int_text[batch_size:]\n",
    "valid_source = source_int_text[:batch_size]\n",
    "valid_target = target_int_text[:batch_size]\n",
    "(valid_sources_batch, valid_targets_batch, valid_sources_lengths, valid_targets_lengths ) = next(get_batches(valid_source,\n",
    "                                                                                                             valid_target,\n",
    "                                                                                                             batch_size,\n",
    "                                                                                                             source_vocab_to_int['<PAD>'],\n",
    "                                                                                                             target_vocab_to_int['<PAD>']))                                                                                                  \n",
    "with tf.Session(graph=train_graph) as sess:\n",
    "    sess.run(tf.global_variables_initializer())\n",
    "\n",
    "    for epoch_i in range(epochs):\n",
    "        for batch_i, (source_batch, target_batch, sources_lengths, targets_lengths) in enumerate(\n",
    "                get_batches(train_source, train_target, batch_size,\n",
    "                            source_vocab_to_int['<PAD>'],\n",
    "                            target_vocab_to_int['<PAD>'])):\n",
    "\n",
    "            _, loss = sess.run(\n",
    "                [train_op, cost],\n",
    "                {input_data: source_batch,\n",
    "                 targets: target_batch,\n",
    "                 lr: learning_rate,\n",
    "                 target_sequence_length: targets_lengths,\n",
    "                 source_sequence_length: sources_lengths,\n",
    "                 keep_prob: keep_probability})\n",
    "\n",
    "\n",
    "            if batch_i % display_step == 0 and batch_i > 0:\n",
    "\n",
    "\n",
    "                batch_train_logits = sess.run(\n",
    "                    inference_logits,\n",
    "                    {input_data: source_batch,\n",
    "                     source_sequence_length: sources_lengths,\n",
    "                     target_sequence_length: targets_lengths,\n",
    "                     keep_prob: 1.0})\n",
    "\n",
    "\n",
    "                batch_valid_logits = sess.run(\n",
    "                    inference_logits,\n",
    "                    {input_data: valid_sources_batch,\n",
    "                     source_sequence_length: valid_sources_lengths,\n",
    "                     target_sequence_length: valid_targets_lengths,\n",
    "                     keep_prob: 1.0})\n",
    "\n",
    "                train_acc = get_accuracy(target_batch, batch_train_logits)\n",
    "\n",
    "                valid_acc = get_accuracy(valid_targets_batch, batch_valid_logits)\n",
    "\n",
    "                print('Epoch {:>3} Batch {:>4}/{} - Train Accuracy: {:>6.4f}, Validation Accuracy: {:>6.4f}, Loss: {:>6.4f}'\n",
    "                      .format(epoch_i, batch_i, len(source_int_text) // batch_size, train_acc, valid_acc, loss))\n",
    "\n",
    "    # Save Model\n",
    "    saver = tf.train.Saver()\n",
    "    saver.save(sess, save_path)\n",
    "    print('Model Trained and Saved')"
   ]
  },
  {
   "cell_type": "markdown",
   "metadata": {},
   "source": [
    "### Save Parameters\n",
    "Save the `batch_size` and `save_path` parameters for inference."
   ]
  },
  {
   "cell_type": "code",
   "execution_count": 34,
   "metadata": {
    "collapsed": true
   },
   "outputs": [],
   "source": [
    "\"\"\"\n",
    "DON'T MODIFY ANYTHING IN THIS CELL\n",
    "\"\"\"\n",
    "# Save parameters for checkpoint\n",
    "helper.save_params(save_path)"
   ]
  },
  {
   "cell_type": "markdown",
   "metadata": {},
   "source": [
    "# Checkpoint"
   ]
  },
  {
   "cell_type": "code",
   "execution_count": 35,
   "metadata": {
    "collapsed": true
   },
   "outputs": [],
   "source": [
    "\"\"\"\n",
    "DON'T MODIFY ANYTHING IN THIS CELL\n",
    "\"\"\"\n",
    "import tensorflow as tf\n",
    "import numpy as np\n",
    "import helper\n",
    "import problem_unittests as tests\n",
    "\n",
    "_, (source_vocab_to_int, target_vocab_to_int), (source_int_to_vocab, target_int_to_vocab) = helper.load_preprocess()\n",
    "load_path = helper.load_params()"
   ]
  },
  {
   "cell_type": "markdown",
   "metadata": {},
   "source": [
    "## Sentence to Sequence\n",
    "To feed a sentence into the model for translation, you first need to preprocess it.  Implement the function `sentence_to_seq()` to preprocess new sentences.\n",
    "\n",
    "- Convert the sentence to lowercase\n",
    "- Convert words into ids using `vocab_to_int`\n",
    " - Convert words not in the vocabulary, to the `<UNK>` word id."
   ]
  },
  {
   "cell_type": "code",
   "execution_count": 37,
   "metadata": {},
   "outputs": [
    {
     "name": "stdout",
     "output_type": "stream",
     "text": [
      "Tests Passed\n"
     ]
    }
   ],
   "source": [
    "def sentence_to_seq(sentence, vocab_to_int):\n",
    "    \"\"\"\n",
    "    Convert a sentence to a sequence of ids\n",
    "    :param sentence: String\n",
    "    :param vocab_to_int: Dictionary to go from the words to an id\n",
    "    :return: List of word ids\n",
    "    \"\"\"\n",
    "    word_ids = []\n",
    "    words = sentence.split(' ')\n",
    "    for word in words:\n",
    "        word = word.lower()\n",
    "        if word in vocab_to_int:\n",
    "            word_ids.append(vocab_to_int[word])\n",
    "        else:\n",
    "            word_ids.append(vocab_to_int['<UNK>'])\n",
    "    return word_ids\n",
    "\n",
    "\n",
    "\"\"\"\n",
    "DON'T MODIFY ANYTHING IN THIS CELL THAT IS BELOW THIS LINE\n",
    "\"\"\"\n",
    "tests.test_sentence_to_seq(sentence_to_seq)"
   ]
  },
  {
   "cell_type": "markdown",
   "metadata": {},
   "source": [
    "## Translate\n",
    "This will translate `translate_sentence` from English to French."
   ]
  },
  {
   "cell_type": "code",
   "execution_count": 41,
   "metadata": {},
   "outputs": [
    {
     "name": "stdout",
     "output_type": "stream",
     "text": [
      "INFO:tensorflow:Restoring parameters from checkpoints/dev\n",
      "Input\n",
      "  Word Ids:      [43, 223, 139, 18]\n",
      "  English Words: ['how', 'are', 'you', '?']\n",
      "\n",
      "Prediction\n",
      "  Word Ids:      [345, 347, 266, 64, 145, 1]\n",
      "  French Words: vous est la fraise . <EOS>\n"
     ]
    }
   ],
   "source": [
    "translate_sentence = 'How are you ?'\n",
    "\n",
    "\n",
    "\"\"\"\n",
    "DON'T MODIFY ANYTHING IN THIS CELL\n",
    "\"\"\"\n",
    "translate_sentence = sentence_to_seq(translate_sentence, source_vocab_to_int)\n",
    "\n",
    "loaded_graph = tf.Graph()\n",
    "with tf.Session(graph=loaded_graph) as sess:\n",
    "    # Load saved model\n",
    "    loader = tf.train.import_meta_graph(load_path + '.meta')\n",
    "    loader.restore(sess, load_path)\n",
    "\n",
    "    input_data = loaded_graph.get_tensor_by_name('input:0')\n",
    "    logits = loaded_graph.get_tensor_by_name('predictions:0')\n",
    "    target_sequence_length = loaded_graph.get_tensor_by_name('target_sequence_length:0')\n",
    "    source_sequence_length = loaded_graph.get_tensor_by_name('source_sequence_length:0')\n",
    "    keep_prob = loaded_graph.get_tensor_by_name('keep_prob:0')\n",
    "\n",
    "    translate_logits = sess.run(logits, {input_data: [translate_sentence]*batch_size,\n",
    "                                         target_sequence_length: [len(translate_sentence)*2]*batch_size,\n",
    "                                         source_sequence_length: [len(translate_sentence)]*batch_size,\n",
    "                                         keep_prob: 1.0})[0]\n",
    "\n",
    "print('Input')\n",
    "print('  Word Ids:      {}'.format([i for i in translate_sentence]))\n",
    "print('  English Words: {}'.format([source_int_to_vocab[i] for i in translate_sentence]))\n",
    "\n",
    "print('\\nPrediction')\n",
    "print('  Word Ids:      {}'.format([i for i in translate_logits]))\n",
    "print('  French Words: {}'.format(\" \".join([target_int_to_vocab[i] for i in translate_logits])))\n"
   ]
  },
  {
   "cell_type": "markdown",
   "metadata": {},
   "source": [
    "## Imperfect Translation\n",
    "You might notice that some sentences translate better than others.  Since the dataset you're using only has a vocabulary of 227 English words of the thousands that you use, you're only going to see good results using these words.  For this project, you don't need a perfect translation. However, if you want to create a better translation model, you'll need better data.\n",
    "\n",
    "You can train on the [WMT10 French-English corpus](http://www.statmt.org/wmt10/training-giga-fren.tar).  This dataset has more vocabulary and richer in topics discussed.  However, this will take you days to train, so make sure you've a GPU and the neural network is performing well on dataset we provided.  Just make sure you play with the WMT10 corpus after you've submitted this project.\n",
    "## Submitting This Project\n",
    "When submitting this project, make sure to run all the cells before saving the notebook. Save the notebook file as \"dlnd_language_translation.ipynb\" and save it as a HTML file under \"File\" -> \"Download as\". Include the \"helper.py\" and \"problem_unittests.py\" files in your submission."
   ]
  }
 ],
 "metadata": {
  "anaconda-cloud": {},
  "kernelspec": {
   "display_name": "Python 3",
   "language": "python",
   "name": "python3"
  },
  "language_info": {
   "codemirror_mode": {
    "name": "ipython",
    "version": 3
   },
   "file_extension": ".py",
   "mimetype": "text/x-python",
   "name": "python",
   "nbconvert_exporter": "python",
   "pygments_lexer": "ipython3",
   "version": "3.6.2"
  }
 },
 "nbformat": 4,
 "nbformat_minor": 1
}
